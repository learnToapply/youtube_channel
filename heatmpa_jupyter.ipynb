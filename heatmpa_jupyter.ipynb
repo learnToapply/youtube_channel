import pandas as pd

# Sample DataFrame
data = {
    'Category1': ['A', 'B', 'C', 'D'],
    'Category2': ['X', 'Y', 'Z', 'W'],
    'Value1': [10, 20, 30, 40],
    'Value2': [9, 19, 25, 35],
    'Value3': [8, 18, 28, 38]
}

df = pd.DataFrame(data)

# Identify numeric columns
numeric_cols = df.select_dtypes(include='number').columns

# Function to apply row-wise color scaling
def row_wise_color(row):
    row_min, row_max = row[numeric_cols].min(), row[numeric_cols].max()
    return row[numeric_cols].apply(lambda val: f'background-color: rgba({255 * (val - row_min) / (row_max - row_min)}, {255 * (1 - (val - row_min) / (row_max - row_min))}, 0, 0.5)' if row_max > row_min else '')

# Apply styling row-wise
styled_df = df.style.apply(row_wise_color, subset=numeric_cols, axis=1)
styled_df
